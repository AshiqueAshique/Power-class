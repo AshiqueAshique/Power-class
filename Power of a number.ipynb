{
 "cells": [
  {
   "cell_type": "markdown",
   "id": "8eb0a2cd",
   "metadata": {},
   "source": [
    "Python class to calcuate the n'th power of a given number "
   ]
  },
  {
   "cell_type": "code",
   "execution_count": 1,
   "id": "bd1f7559",
   "metadata": {},
   "outputs": [],
   "source": [
    "class Power:        \n",
    "    def __init__(self,x,n):    # constructor which contain data members of Power class\n",
    "        self.x = x             # for this problem we need 2 data members x and n\n",
    "        self.n = n\n",
    "    def power_of(self):        # function to calculate n'th power of a given number         \n",
    "        result = self.x ** self.n\n",
    "        print('%s power %s is %s' % (self.x, self.n, result))\n",
    "   "
   ]
  },
  {
   "cell_type": "code",
   "execution_count": 2,
   "id": "46edd529",
   "metadata": {},
   "outputs": [],
   "source": [
    "s= Power(10,2)    #object of Power class"
   ]
  },
  {
   "cell_type": "code",
   "execution_count": 3,
   "id": "6cd9f89f",
   "metadata": {},
   "outputs": [
    {
     "name": "stdout",
     "output_type": "stream",
     "text": [
      "10 power 2 is 100\n"
     ]
    }
   ],
   "source": [
    "s.power_of()      #calling power_of func on the object"
   ]
  }
 ],
 "metadata": {
  "kernelspec": {
   "display_name": "Python 3",
   "language": "python",
   "name": "python3"
  },
  "language_info": {
   "codemirror_mode": {
    "name": "ipython",
    "version": 3
   },
   "file_extension": ".py",
   "mimetype": "text/x-python",
   "name": "python",
   "nbconvert_exporter": "python",
   "pygments_lexer": "ipython3",
   "version": "3.8.8"
  }
 },
 "nbformat": 4,
 "nbformat_minor": 5
}
